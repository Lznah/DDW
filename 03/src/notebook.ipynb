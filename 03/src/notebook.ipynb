{
 "cells": [
  {
   "cell_type": "markdown",
   "metadata": {},
   "source": [
    "# Task 3 - Social Network Analysis"
   ]
  },
  {
   "cell_type": "code",
   "execution_count": 5,
   "metadata": {},
   "outputs": [],
   "source": [
    "import networkx as nx\n",
    "import matplotlib.pyplot as plt\n",
    "import pandas as pd\n",
    "import numpy as np\n",
    "\n",
    "g = nx.Graph()"
   ]
  },
  {
   "cell_type": "markdown",
   "metadata": {},
   "source": [
    "## Load data"
   ]
  },
  {
   "cell_type": "code",
   "execution_count": null,
   "metadata": {
    "tags": [
     "outputPrepend",
     "outputPrepend",
     "outputPrepend",
     "outputPrepend",
     "outputPrepend",
     "outputPrepend",
     "outputPrepend",
     "outputPrepend",
     "outputPrepend",
     "outputPrepend",
     "outputPrepend",
     "outputPrepend",
     "outputPrepend",
     "outputPrepend",
     "outputPrepend",
     "outputPrepend",
     "outputPrepend",
     "outputPrepend",
     "outputPrepend",
     "outputPrepend",
     "outputPrepend",
     "outputPrepend",
     "outputPrepend",
     "outputPrepend",
     "outputPrepend",
     "outputPrepend",
     "outputPrepend",
     "outputPrepend",
     "outputPrepend",
     "outputPrepend",
     "outputPrepend",
     "outputPrepend"
    ]
   },
   "outputs": [],
   "source": [
    "films_dictionary = {}\n",
    "actors_dictionary = {}\n",
    "\n",
    "df = pd.read_csv('data/casts.csv',header=0,names=[\"film_id\", \"title\", \"actor\", \"type_role\"], delimiter=\";\", index_col=False)"
   ]
  },
  {
   "cell_type": "markdown",
   "metadata": {},
   "source": [
    "## Create nodes"
   ]
  },
  {
   "cell_type": "code",
   "execution_count": 44,
   "metadata": {
    "tags": [
     "outputPrepend",
     "outputPrepend",
     "outputPrepend",
     "outputPrepend",
     "outputPrepend"
    ]
   },
   "outputs": [],
   "source": [
    "g = nx.Graph()\n",
    "# actors = df['actor'].unique()\n",
    "# for actor in actors:\n",
    "#     g.add_node(actor)\n",
    ""
   ]
  },
  {
   "cell_type": "code",
   "execution_count": 45,
   "metadata": {
    "tags": [
     "outputPrepend",
     "outputPrepend",
     "outputPrepend",
     "outputPrepend",
     "outputPrepend",
     "outputPrepend",
     "outputPrepend",
     "outputPrepend",
     "outputPrepend",
     "outputPrepend",
     "outputPrepend",
     "outputPrepend",
     "outputPrepend",
     "outputPrepend",
     "outputPrepend",
     "outputPrepend",
     "outputPrepend",
     "outputPrepend",
     "outputPrepend",
     "outputPrepend"
    ]
   },
   "outputs": [],
   "source": [
    "df_grouped = df.groupby('film_id')['film_id','title','actor']\n",
    "for name, group in df_grouped:\n",
    "    actors = group['actor']\n",
    "    # Adding reduntant nodes and edges is not possible by default -> uniqueness satisfied\n",
    "    if actors.shape[0] > 2: continue # movies with less or equal number of five actors\n",
    "    for actor1 in actors:\n",
    "        g.add_node(actor1)\n",
    "        for actor2 in actors:\n",
    "            g.add_node(actor2)\n",
    "            if actor1 != actor2:\n",
    "                g.add_edge(actor1, actor2, film_id=group['film_id'].agg('unique')[0], title=group['title'].agg('unique')[0])"
   ]
  },
  {
   "cell_type": "code",
   "execution_count": 58,
   "metadata": {},
   "outputs": [],
   "source": [
    "backup_g = g.copy()"
   ]
  },
  {
   "cell_type": "code",
   "execution_count": 56,
   "metadata": {},
   "outputs": [],
   "source": [
    "# g = backup_g.copy()"
   ]
  },
  {
   "cell_type": "markdown",
   "metadata": {},
   "source": [
    "## General statistics"
   ]
  },
  {
   "cell_type": "code",
   "execution_count": 59,
   "metadata": {},
   "outputs": [
    {
     "output_type": "stream",
     "name": "stdout",
     "text": "\nGENERAL STATISTICS:\nNumber of nodes: 7941\nNumber of edges: 19409\nDensity: 0.0006156550656811872\nNumber of components: 804\n\n"
    }
   ],
   "source": [
    "nodes = g.number_of_nodes()\n",
    "edges = g.number_of_edges()\n",
    "density = nx.density(g)\n",
    "components = nx.number_connected_components(g)\n",
    "print(\"\"\"\n",
    "GENERAL STATISTICS:\n",
    "Number of nodes: {}\n",
    "Number of edges: {}\n",
    "Density: {}\n",
    "Number of components: {}\n",
    "\"\"\".format(nodes, edges, density, components))"
   ]
  },
  {
   "cell_type": "markdown",
   "metadata": {},
   "source": [
    "## Kevin Bacon Number\n",
    "\n",
    "Simple explanation: Who has less than 6 degrees of seperation from Kevin Bacon.\n",
    "\n",
    "https://simple.wikipedia.org/wiki/Bacon_number\n",
    "\n",
    "In this example, Kevin Bacon Number is calculator towards an actor Ray Milland."
   ]
  },
  {
   "cell_type": "code",
   "execution_count": 60,
   "metadata": {},
   "outputs": [
    {
     "output_type": "stream",
     "name": "stdout",
     "text": "\nAvg. Kevin Bacon: 3.8615435574693606\nLowest 5: [('Ray Milland', 0), ('Ellen Drew', 1), ('Guy Middleton', 1), ('Ronald Culver', 1), ('Loretta Young', 1)]\nHighest 5: [('Jeff Glodblum', 7), ('Cecile Aubry', 7), ('Earl Schevk', 8), ('Charles Bryant', 8), ('Ernest Thesiger', 8)]\n\n"
    }
   ],
   "source": [
    "for actor in g.nodes:\n",
    "    g.nodes[actor][\"kevin_bacon\"] = float(\"inf\")\n",
    "\n",
    "kevin_bacon = nx.single_source_shortest_path_length(g, \"Ray Milland\")\n",
    "for actor in kevin_bacon:\n",
    "    g.nodes[actor]['kevin_bacon'] = kevin_bacon[actor]\n",
    "\n",
    "avg_kevin_bacon = sum(kevin_bacon[actor] for actor in kevin_bacon)/len(kevin_bacon)\n",
    "lowest = list(kevin_bacon.items())[:5]\n",
    "highest = list(kevin_bacon.items())[-5:]\n",
    "\n",
    "print(\"\"\"\n",
    "Avg. Kevin Bacon: {}\n",
    "Lowest 5: {}\n",
    "Highest 5: {}\n",
    "\"\"\".format(avg_kevin_bacon, lowest, highest))"
   ]
  },
  {
   "cell_type": "markdown",
   "metadata": {},
   "source": [
    "## Centralities (Key Actors/Players)"
   ]
  },
  {
   "cell_type": "code",
   "execution_count": 61,
   "metadata": {
    "tags": [
     "outputPrepend"
    ]
   },
   "outputs": [
    {
     "output_type": "stream",
     "name": "stdout",
     "text": "\n    Top 5 actors with highest Degree Centrality:\n    [('s a', 0.09659949622166246), ('Clint Eastwood', 0.00654911838790932), ('Robert Duvall', 0.006297229219143576), ('Henry Fonda', 0.005793450881612091), ('Robert Mitchum', 0.005667506297229219)]\n    \n\n    Top 5 actors with highest Eigenvector Centrality:\n    [('s a', 0.6808058389463773), ('Robert Duvall', 0.0399289901783157), ('Michael Douglas', 0.03929066774242478), ('Anthony Hopkins', 0.03809205107080914), ('Brad Pitt', 0.03661210055781485)]\n    \n"
    }
   ],
   "source": [
    "from collections import Counter\n",
    "centralities_funcs = {\n",
    "    'Degree Centrality': nx.degree_centrality,\n",
    "    # 'Closeness Centrality': nx.closeness_centrality, # took too much time\n",
    "    # 'Betweenness Centrality': nx.betweenness_centrality, # took too much time\n",
    "    'Eigenvector Centrality': nx.eigenvector_centrality\n",
    "}\n",
    "for centrality_func in centralities_funcs:\n",
    "    centrality = centralities_funcs[centrality_func](g)\n",
    "    for actor in g.nodes:\n",
    "        g.nodes[actor][centrality_func] = centrality[actor]\n",
    "    \n",
    "    highest = Counter(centrality).most_common(5)\n",
    "\n",
    "    print(\"\"\"\n",
    "    Top 5 actors with highest {}:\n",
    "    {}\n",
    "    \"\"\".format(centrality_func, highest))"
   ]
  },
  {
   "cell_type": "markdown",
   "metadata": {},
   "source": [
    "## Finding communities using K Clique"
   ]
  },
  {
   "cell_type": "code",
   "execution_count": 92,
   "metadata": {
    "tags": [
     "outputPrepend",
     "outputPrepend"
    ]
   },
   "outputs": [],
   "source": [
    "communities = {node:cid+1 for cid,community in enumerate(nx.algorithms.community.k_clique_communities(g,3)) for node in community}\n",
    "\n",
    "for actor in communities:\n",
    "    g.nodes[actor]['community'] = communities[actor]"
   ]
  },
  {
   "cell_type": "markdown",
   "metadata": {},
   "source": [
    "### Each actor has these attributes now"
   ]
  },
  {
   "cell_type": "code",
   "execution_count": 95,
   "metadata": {},
   "outputs": [
    {
     "output_type": "execute_result",
     "data": {
      "text/plain": "{'kevin_bacon': 5,\n 'Degree Centrality': 0.0005037783375314861,\n 'Eigenvector Centrality': 0.00022470149080921193,\n 'community': 110}"
     },
     "metadata": {},
     "execution_count": 95
    }
   ],
   "source": [
    "g.nodes['Kristin ScottThomas']"
   ]
  },
  {
   "cell_type": "markdown",
   "metadata": {},
   "source": [
    "## Export into GEFX file"
   ]
  },
  {
   "cell_type": "code",
   "execution_count": 96,
   "metadata": {},
   "outputs": [
    {
     "output_type": "error",
     "ename": "NameError",
     "evalue": "name 'networkx' is not defined",
     "traceback": [
      "\u001b[0;31m---------------------------------------------------------------------------\u001b[0m",
      "\u001b[0;31mNameError\u001b[0m                                 Traceback (most recent call last)",
      "\u001b[0;32m<ipython-input-96-b95c01ff8f8c>\u001b[0m in \u001b[0;36m<module>\u001b[0;34m\u001b[0m\n\u001b[0;32m----> 1\u001b[0;31m \u001b[0mnetworkx\u001b[0m\u001b[0;34m.\u001b[0m\u001b[0mwrite_gexf\u001b[0m\u001b[0;34m(\u001b[0m\u001b[0mgraph\u001b[0m\u001b[0;34m,\u001b[0m \u001b[0;34m'casts_sna.gexf'\u001b[0m\u001b[0;34m)\u001b[0m\u001b[0;34m\u001b[0m\u001b[0;34m\u001b[0m\u001b[0m\n\u001b[0m",
      "\u001b[0;31mNameError\u001b[0m: name 'networkx' is not defined"
     ]
    }
   ],
   "source": [
    "networkx.write_gexf(graph, 'casts_sna.gexf')"
   ]
  },
  {
   "cell_type": "code",
   "execution_count": null,
   "metadata": {},
   "outputs": [],
   "source": []
  }
 ],
 "metadata": {
  "kernelspec": {
   "display_name": "Python 3.7.6 64-bit",
   "language": "python",
   "name": "python37664bit3582804ea7e441319cdca8b51b7f8e7b"
  },
  "language_info": {
   "codemirror_mode": {
    "name": "ipython",
    "version": 3
   },
   "file_extension": ".py",
   "mimetype": "text/x-python",
   "name": "python",
   "nbconvert_exporter": "python",
   "pygments_lexer": "ipython3",
   "version": "3.7.7-final"
  }
 },
 "nbformat": 4,
 "nbformat_minor": 2
}